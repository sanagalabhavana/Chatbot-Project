{
  "nbformat": 4,
  "nbformat_minor": 0,
  "metadata": {
    "colab": {
      "provenance": [],
      "toc_visible": true
    },
    "kernelspec": {
      "name": "python3",
      "display_name": "Python 3"
    },
    "language_info": {
      "name": "python"
    }
  },
  "cells": [
    {
      "cell_type": "markdown",
      "source": [
        "# **Chatbot** "
      ],
      "metadata": {
        "id": "i0Gxd4N3zdcB"
      }
    },
    {
      "cell_type": "code",
      "execution_count": null,
      "metadata": {
        "id": "iL8crkwfm4lc"
      },
      "outputs": [],
      "source": [
        "#description: This is a 'smart' chat bot program"
      ]
    },
    {
      "cell_type": "code",
      "source": [
        "pip install nltk"
      ],
      "metadata": {
        "colab": {
          "base_uri": "https://localhost:8080/"
        },
        "id": "Ot_SNLO81EZH",
        "outputId": "24969dcf-f9ff-4d63-aabc-638badf93c59"
      },
      "execution_count": 1,
      "outputs": [
        {
          "output_type": "stream",
          "name": "stdout",
          "text": [
            "Looking in indexes: https://pypi.org/simple, https://us-python.pkg.dev/colab-wheels/public/simple/\n",
            "Requirement already satisfied: nltk in /usr/local/lib/python3.9/dist-packages (3.8.1)\n",
            "Requirement already satisfied: tqdm in /usr/local/lib/python3.9/dist-packages (from nltk) (4.65.0)\n",
            "Requirement already satisfied: regex>=2021.8.3 in /usr/local/lib/python3.9/dist-packages (from nltk) (2022.10.31)\n",
            "Requirement already satisfied: joblib in /usr/local/lib/python3.9/dist-packages (from nltk) (1.1.1)\n",
            "Requirement already satisfied: click in /usr/local/lib/python3.9/dist-packages (from nltk) (8.1.3)\n"
          ]
        }
      ]
    },
    {
      "cell_type": "code",
      "source": [
        "pip install newspaper3k"
      ],
      "metadata": {
        "colab": {
          "base_uri": "https://localhost:8080/"
        },
        "id": "HfIjJzbs1RJF",
        "outputId": "64093d92-bb4b-45df-9ac6-c5a91be324ef"
      },
      "execution_count": null,
      "outputs": [
        {
          "output_type": "stream",
          "name": "stdout",
          "text": [
            "Looking in indexes: https://pypi.org/simple, https://us-python.pkg.dev/colab-wheels/public/simple/\n",
            "Collecting newspaper3k\n",
            "  Downloading newspaper3k-0.2.8-py3-none-any.whl (211 kB)\n",
            "\u001b[2K     \u001b[90m━━━━━━━━━━━━━━━━━━━━━━━━━━━━━━━━━━━━━━\u001b[0m \u001b[32m211.1/211.1 KB\u001b[0m \u001b[31m10.6 MB/s\u001b[0m eta \u001b[36m0:00:00\u001b[0m\n",
            "\u001b[?25hCollecting tldextract>=2.0.1\n",
            "  Downloading tldextract-3.4.0-py3-none-any.whl (93 kB)\n",
            "\u001b[2K     \u001b[90m━━━━━━━━━━━━━━━━━━━━━━━━━━━━━━━━━━━━━━━━\u001b[0m \u001b[32m93.9/93.9 KB\u001b[0m \u001b[31m11.3 MB/s\u001b[0m eta \u001b[36m0:00:00\u001b[0m\n",
            "\u001b[?25hRequirement already satisfied: beautifulsoup4>=4.4.1 in /usr/local/lib/python3.9/dist-packages (from newspaper3k) (4.11.2)\n",
            "Collecting cssselect>=0.9.2\n",
            "  Downloading cssselect-1.2.0-py2.py3-none-any.whl (18 kB)\n",
            "Collecting feedfinder2>=0.0.4\n",
            "  Downloading feedfinder2-0.0.4.tar.gz (3.3 kB)\n",
            "  Preparing metadata (setup.py) ... \u001b[?25l\u001b[?25hdone\n",
            "Requirement already satisfied: lxml>=3.6.0 in /usr/local/lib/python3.9/dist-packages (from newspaper3k) (4.9.2)\n",
            "Collecting feedparser>=5.2.1\n",
            "  Downloading feedparser-6.0.10-py3-none-any.whl (81 kB)\n",
            "\u001b[2K     \u001b[90m━━━━━━━━━━━━━━━━━━━━━━━━━━━━━━━━━━━━━━━━\u001b[0m \u001b[32m81.1/81.1 KB\u001b[0m \u001b[31m9.3 MB/s\u001b[0m eta \u001b[36m0:00:00\u001b[0m\n",
            "\u001b[?25hCollecting tinysegmenter==0.3\n",
            "  Downloading tinysegmenter-0.3.tar.gz (16 kB)\n",
            "  Preparing metadata (setup.py) ... \u001b[?25l\u001b[?25hdone\n",
            "Requirement already satisfied: requests>=2.10.0 in /usr/local/lib/python3.9/dist-packages (from newspaper3k) (2.27.1)\n",
            "Requirement already satisfied: Pillow>=3.3.0 in /usr/local/lib/python3.9/dist-packages (from newspaper3k) (8.4.0)\n",
            "Requirement already satisfied: nltk>=3.2.1 in /usr/local/lib/python3.9/dist-packages (from newspaper3k) (3.8.1)\n",
            "Requirement already satisfied: PyYAML>=3.11 in /usr/local/lib/python3.9/dist-packages (from newspaper3k) (6.0)\n",
            "Requirement already satisfied: python-dateutil>=2.5.3 in /usr/local/lib/python3.9/dist-packages (from newspaper3k) (2.8.2)\n",
            "Collecting jieba3k>=0.35.1\n",
            "  Downloading jieba3k-0.35.1.zip (7.4 MB)\n",
            "\u001b[2K     \u001b[90m━━━━━━━━━━━━━━━━━━━━━━━━━━━━━━━━━━━━━━━━\u001b[0m \u001b[32m7.4/7.4 MB\u001b[0m \u001b[31m92.2 MB/s\u001b[0m eta \u001b[36m0:00:00\u001b[0m\n",
            "\u001b[?25h  Preparing metadata (setup.py) ... \u001b[?25l\u001b[?25hdone\n",
            "Requirement already satisfied: soupsieve>1.2 in /usr/local/lib/python3.9/dist-packages (from beautifulsoup4>=4.4.1->newspaper3k) (2.4)\n",
            "Requirement already satisfied: six in /usr/local/lib/python3.9/dist-packages (from feedfinder2>=0.0.4->newspaper3k) (1.16.0)\n",
            "Collecting sgmllib3k\n",
            "  Downloading sgmllib3k-1.0.0.tar.gz (5.8 kB)\n",
            "  Preparing metadata (setup.py) ... \u001b[?25l\u001b[?25hdone\n",
            "Requirement already satisfied: click in /usr/local/lib/python3.9/dist-packages (from nltk>=3.2.1->newspaper3k) (8.1.3)\n",
            "Requirement already satisfied: regex>=2021.8.3 in /usr/local/lib/python3.9/dist-packages (from nltk>=3.2.1->newspaper3k) (2022.10.31)\n",
            "Requirement already satisfied: joblib in /usr/local/lib/python3.9/dist-packages (from nltk>=3.2.1->newspaper3k) (1.1.1)\n",
            "Requirement already satisfied: tqdm in /usr/local/lib/python3.9/dist-packages (from nltk>=3.2.1->newspaper3k) (4.65.0)\n",
            "Requirement already satisfied: idna<4,>=2.5 in /usr/local/lib/python3.9/dist-packages (from requests>=2.10.0->newspaper3k) (3.4)\n",
            "Requirement already satisfied: certifi>=2017.4.17 in /usr/local/lib/python3.9/dist-packages (from requests>=2.10.0->newspaper3k) (2022.12.7)\n",
            "Requirement already satisfied: charset-normalizer~=2.0.0 in /usr/local/lib/python3.9/dist-packages (from requests>=2.10.0->newspaper3k) (2.0.12)\n",
            "Requirement already satisfied: urllib3<1.27,>=1.21.1 in /usr/local/lib/python3.9/dist-packages (from requests>=2.10.0->newspaper3k) (1.26.15)\n",
            "Requirement already satisfied: filelock>=3.0.8 in /usr/local/lib/python3.9/dist-packages (from tldextract>=2.0.1->newspaper3k) (3.10.0)\n",
            "Collecting requests-file>=1.4\n",
            "  Downloading requests_file-1.5.1-py2.py3-none-any.whl (3.7 kB)\n",
            "Building wheels for collected packages: tinysegmenter, feedfinder2, jieba3k, sgmllib3k\n",
            "  Building wheel for tinysegmenter (setup.py) ... \u001b[?25l\u001b[?25hdone\n",
            "  Created wheel for tinysegmenter: filename=tinysegmenter-0.3-py3-none-any.whl size=13552 sha256=470cf1e73e4636906adae729be91e99631e907b6b06819d034722acd4a002aea\n",
            "  Stored in directory: /root/.cache/pip/wheels/94/ad/df/a2a01300cea47d5695f242f7e925a805970106fd9e4b151468\n",
            "  Building wheel for feedfinder2 (setup.py) ... \u001b[?25l\u001b[?25hdone\n",
            "  Created wheel for feedfinder2: filename=feedfinder2-0.0.4-py3-none-any.whl size=3356 sha256=ee96304c64cd4345aa13570a0e6ceb309affa9799f5659aa799168258ec00f45\n",
            "  Stored in directory: /root/.cache/pip/wheels/43/4a/c2/61a371b2524ac90805391c660d8dc4505705297f25e2b85a5d\n",
            "  Building wheel for jieba3k (setup.py) ... \u001b[?25l\u001b[?25hdone\n",
            "  Created wheel for jieba3k: filename=jieba3k-0.35.1-py3-none-any.whl size=7398404 sha256=8158eea337f6a7f463b9edafc5a5ce3c008e7d6fb7a9477d99993439e7914374\n",
            "  Stored in directory: /root/.cache/pip/wheels/c2/22/59/8214a8d6357e9f540ce1f37f9a4362b6156b4ca81b37f1945f\n",
            "  Building wheel for sgmllib3k (setup.py) ... \u001b[?25l\u001b[?25hdone\n",
            "  Created wheel for sgmllib3k: filename=sgmllib3k-1.0.0-py3-none-any.whl size=6065 sha256=f1ef439d4429575802a43510b3f0d57875b50023a3c06d3e892de72ed245f0e1\n",
            "  Stored in directory: /root/.cache/pip/wheels/65/7a/a7/78c287f64e401255dff4c13fdbc672fed5efbfd21c530114e1\n",
            "Successfully built tinysegmenter feedfinder2 jieba3k sgmllib3k\n",
            "Installing collected packages: tinysegmenter, sgmllib3k, jieba3k, feedparser, cssselect, requests-file, feedfinder2, tldextract, newspaper3k\n",
            "Successfully installed cssselect-1.2.0 feedfinder2-0.0.4 feedparser-6.0.10 jieba3k-0.35.1 newspaper3k-0.2.8 requests-file-1.5.1 sgmllib3k-1.0.0 tinysegmenter-0.3 tldextract-3.4.0\n"
          ]
        }
      ]
    },
    {
      "cell_type": "code",
      "source": [
        "#Import the libraries\n",
        "from newspaper import Article\n",
        "import random\n",
        "import string\n",
        "import nltk\n",
        "from sklearn.feature_extraction.text import CountVectorizer\n",
        "from sklearn.metrics.pairwise import cosine_similarity\n",
        "import numpy as np\n",
        "import warnings\n",
        "warnings.filterwarnings('ignore')"
      ],
      "metadata": {
        "id": "pQZlLCgg1h7L"
      },
      "execution_count": null,
      "outputs": []
    },
    {
      "cell_type": "code",
      "source": [
        "#Download the punkt package\n",
        "nltk.download('punkt', quiet=True)"
      ],
      "metadata": {
        "colab": {
          "base_uri": "https://localhost:8080/"
        },
        "id": "59-f3OTm3NlZ",
        "outputId": "cffcb285-5e0a-44e1-9528-a5ddd71d9d34"
      },
      "execution_count": null,
      "outputs": [
        {
          "output_type": "execute_result",
          "data": {
            "text/plain": [
              "True"
            ]
          },
          "metadata": {},
          "execution_count": 5
        }
      ]
    },
    {
      "cell_type": "code",
      "source": [
        "#Get the article\n",
        "article = Article('https://www.medicalnewstoday.com/articles/323648')\n",
        "article.download()\n",
        "article.parse()\n",
        "article.nlp()\n",
        "corpus = article.text\n"
      ],
      "metadata": {
        "id": "-TTz18K13o2R"
      },
      "execution_count": null,
      "outputs": []
    },
    {
      "cell_type": "code",
      "source": [
        "#Print the articles text\n",
        "print(corpus)"
      ],
      "metadata": {
        "colab": {
          "base_uri": "https://localhost:8080/"
        },
        "id": "cw--KkUb4mQj",
        "outputId": "f742d9e6-4d26-4c8e-9485-a70eacdb3b07"
      },
      "execution_count": null,
      "outputs": [
        {
          "output_type": "stream",
          "name": "stdout",
          "text": [
            "Cancer causes cells to divide uncontrollably. This can result in tumors, damage to the immune system, and other impairment that can be fatal. In the United States, an estimated 15.5 million people with a history of cancer were living as of January 1, 2016, according to a 2018 report from the American Cancer Society. In this article, we examine types of cancer, how the disease develops, and the many treatments that help improve the quality of life and survival rates.\n",
            "\n",
            "What is cancer? Share on Pinterest Photo edited by Stephen Kelly; Science Photo Library – STEVE GSCHMEISSNER/ CSA Images/Getty Images Cancer is a broad term. It describes the disease that results when cellular changes cause the uncontrolled growth and division of cells. Some types of cancer cause rapid cell growth, while others cause cells to grow and divide at a slower rate. Certain forms of cancer result in visible growths called tumors, while others, such as leukemia, do not. Most of the body’s cells have specific functions and fixed lifespans. While it may sound like a bad thing, cell death is part of a natural and beneficial phenomenon called apoptosis. A cell receives instructions to die so that the body can replace it with a newer cell that functions better. Cancerous cells lack the components that instruct them to stop dividing and to die. As a result, they build up in the body, using oxygen and nutrients that would usually nourish other cells. Cancerous cells can form tumors, impair the immune system and cause other changes that prevent the body from functioning regularly. Cancerous cells may appear in one area, then spread via the lymph nodes. These are clusters of immune cells located throughout the body.\n",
            "\n",
            "Causes There are many causes of cancer, and some are preventable. For example, over 480,000 people die in the U.S. each year from smoking cigarettes, according to data reported in 2014. In addition to smoking, risk factors for cancer include: heavy alcohol consumption\n",
            "\n",
            "excess body weight\n",
            "\n",
            "physical inactivity\n",
            "\n",
            "poor nutrition Other causes of cancer are not preventable. Currently, the most significant unpreventable risk factor is age. According to the American Cancer Society, doctors in the U.S. diagnose 87 percent of cancer cases in people ages 50 years or older. Is cancer genetic? Genetic factors can contribute to the development of cancer. A person’s genetic code tells their cells when to divide and expire. Changes in the genes can lead to faulty instructions, and cancer can result. Genes also influence the cells’ production of proteins, and proteins carry many of the instructions for cellular growth and division. Some genes change proteins that would usually repair damaged cells. This can lead to cancer. If a parent has these genes, they may pass on the altered instructions to their offspring. Some genetic changes occur after birth, and factors such as smoking and sun exposure can increase the risk. Other changes that can result in cancer take place in the chemical signals that determine how the body deploys, or “expresses” specific genes. Finally, a person can inherit a predisposition for a type of cancer. A doctor may refer to this as having a hereditary cancer syndrome. Inherited genetic mutations significantly contribute to the development of 5–10 percent of cancer cases.\n",
            "\n",
            "Treatments Share on Pinterest The side effects of chemotherapy include hair loss. However, advances in treatment are improving the outlook for people with cancer. Innovative research has fueled the development of new medications and treatment technologies. Doctors usually prescribe treatments based on the type of cancer, its stage at diagnosis, and the person’s overall health. Below are examples of approaches to cancer treatment: Chemotherapy aims to kill cancerous cells with medications that target rapidly dividing cells. The drugs can also help shrink tumors, but the side effects can be severe.\n",
            "\n",
            "Hormone therapy involves taking medications that change how certain hormones work or interfere with the body’s ability to produce them. When hormones play a significant role, as with prostate and breast cancers, this is a common approach.\n",
            "\n",
            "Immunotherapy uses medications and other treatments to boost the immune system and encourage it to fight cancerous cells. Two examples of these treatments are checkpoint inhibitors and adoptive cell transfer.\n",
            "\n",
            "Precision medicine, or personalized medicine, is a newer, developing approach. It involves using genetic testing to determine the best treatments for a person’s particular presentation of cancer. Researchers have yet to show that it can effectively treat all types of cancer, however.\n",
            "\n",
            "Radiation therapy uses high-dose radiation to kill cancerous cells. Also, a doctor may recommend using radiation to shrink a tumor before surgery or reduce tumor-related symptoms.\n",
            "\n",
            "Stem cell transplant can be especially beneficial for people with blood-related cancers, such as leukemia or lymphoma. It involves removing cells, such as red or white blood cells, that chemotherapy or radiation has destroyed. Lab technicians then strengthen the cells and put them back into the body.\n",
            "\n",
            "Surgery is often a part of a treatment plan when a person has a cancerous tumor. Also, a surgeon may remove lymph nodes to reduce or prevent the disease’s spread.\n",
            "\n",
            "Targeted therapies perform functions within cancerous cells to prevent them from multiplying. They can also boost the immune system. Two examples of these therapies are small-molecule drugs and monoclonal antibodies. Doctors will often employ more than one type of treatment to maximize effectiveness.\n",
            "\n",
            "Types Share on Pinterest Smoking increases the risk of many different types of cancer. The most common type of cancer in the U.S. is breast cancer, followed by lung and prostate cancers, according to the National Cancer Institute, which excluded nonmelanoma skin cancers from these findings. Each year, more than 40,000 people in the country receive a diagnosis of one of the following types of cancer: bladder\n",
            "\n",
            "colon and rectal\n",
            "\n",
            "endometrial\n",
            "\n",
            "kidney\n",
            "\n",
            "leukemia\n",
            "\n",
            "liver\n",
            "\n",
            "melanoma\n",
            "\n",
            "non-Hodgkin’s lymphoma\n",
            "\n",
            "pancreatic\n",
            "\n",
            "thyroid Other forms are less common. According to the National Cancer Institute, there are over 100 types of cancer. Cancer development and cell division Doctors classify cancer by: its location in the body\n",
            "\n",
            "the tissues that it forms in For example, sarcomas develop in bones or soft tissues, while carcinomas form in cells that cover internal or external surfaces in the body. Basal cell carcinomas develop in the skin, while adenocarcinomas can form in the breast. When cancerous cells spread to other parts of the body, the medical term for this is metastasis. A person can also have more than one type of cancer at a time. To discover more evidence-based information and resources for cancer, visit our dedicated hub.\n",
            "\n",
            "Outlook Improvements in cancer detection, increased awareness of the risks of smoking, and a drop in tobacco use have all contributed to a year-on-year decrease in the number of cancer diagnoses and deaths. According to the American Cancer Society, the overall cancer death rate declined by 26 percent between 1991 and 2015. When a person has cancer, the outlook will depend on whether the disease has spread and on its type, severity, and location.\n"
          ]
        }
      ]
    },
    {
      "cell_type": "code",
      "source": [
        "#Tokenization\n",
        "text = corpus\n",
        "sentence_list = nltk.sent_tokenize(text) # A list of sentences"
      ],
      "metadata": {
        "id": "-T5MgZHY5P-y"
      },
      "execution_count": null,
      "outputs": []
    },
    {
      "cell_type": "code",
      "source": [
        "#Print the list of sentences\n",
        "print(sentence_list)"
      ],
      "metadata": {
        "colab": {
          "base_uri": "https://localhost:8080/"
        },
        "id": "ApckzSOi5m9I",
        "outputId": "a1d8effb-e0b8-4205-c992-b62be7505d6a"
      },
      "execution_count": null,
      "outputs": [
        {
          "output_type": "stream",
          "name": "stdout",
          "text": [
            "['Cancer causes cells to divide uncontrollably.', 'This can result in tumors, damage to the immune system, and other impairment that can be fatal.', 'In the United States, an estimated 15.5 million people with a history of cancer were living as of January 1, 2016, according to a 2018 report from the American Cancer Society.', 'In this article, we examine types of cancer, how the disease develops, and the many treatments that help improve the quality of life and survival rates.', 'What is cancer?', 'Share on Pinterest Photo edited by Stephen Kelly; Science Photo Library – STEVE GSCHMEISSNER/ CSA Images/Getty Images Cancer is a broad term.', 'It describes the disease that results when cellular changes cause the uncontrolled growth and division of cells.', 'Some types of cancer cause rapid cell growth, while others cause cells to grow and divide at a slower rate.', 'Certain forms of cancer result in visible growths called tumors, while others, such as leukemia, do not.', 'Most of the body’s cells have specific functions and fixed lifespans.', 'While it may sound like a bad thing, cell death is part of a natural and beneficial phenomenon called apoptosis.', 'A cell receives instructions to die so that the body can replace it with a newer cell that functions better.', 'Cancerous cells lack the components that instruct them to stop dividing and to die.', 'As a result, they build up in the body, using oxygen and nutrients that would usually nourish other cells.', 'Cancerous cells can form tumors, impair the immune system and cause other changes that prevent the body from functioning regularly.', 'Cancerous cells may appear in one area, then spread via the lymph nodes.', 'These are clusters of immune cells located throughout the body.', 'Causes There are many causes of cancer, and some are preventable.', 'For example, over 480,000 people die in the U.S. each year from smoking cigarettes, according to data reported in 2014.', 'In addition to smoking, risk factors for cancer include: heavy alcohol consumption\\n\\nexcess body weight\\n\\nphysical inactivity\\n\\npoor nutrition Other causes of cancer are not preventable.', 'Currently, the most significant unpreventable risk factor is age.', 'According to the American Cancer Society, doctors in the U.S. diagnose 87 percent of cancer cases in people ages 50 years or older.', 'Is cancer genetic?', 'Genetic factors can contribute to the development of cancer.', 'A person’s genetic code tells their cells when to divide and expire.', 'Changes in the genes can lead to faulty instructions, and cancer can result.', 'Genes also influence the cells’ production of proteins, and proteins carry many of the instructions for cellular growth and division.', 'Some genes change proteins that would usually repair damaged cells.', 'This can lead to cancer.', 'If a parent has these genes, they may pass on the altered instructions to their offspring.', 'Some genetic changes occur after birth, and factors such as smoking and sun exposure can increase the risk.', 'Other changes that can result in cancer take place in the chemical signals that determine how the body deploys, or “expresses” specific genes.', 'Finally, a person can inherit a predisposition for a type of cancer.', 'A doctor may refer to this as having a hereditary cancer syndrome.', 'Inherited genetic mutations significantly contribute to the development of 5–10 percent of cancer cases.', 'Treatments Share on Pinterest The side effects of chemotherapy include hair loss.', 'However, advances in treatment are improving the outlook for people with cancer.', 'Innovative research has fueled the development of new medications and treatment technologies.', 'Doctors usually prescribe treatments based on the type of cancer, its stage at diagnosis, and the person’s overall health.', 'Below are examples of approaches to cancer treatment: Chemotherapy aims to kill cancerous cells with medications that target rapidly dividing cells.', 'The drugs can also help shrink tumors, but the side effects can be severe.', 'Hormone therapy involves taking medications that change how certain hormones work or interfere with the body’s ability to produce them.', 'When hormones play a significant role, as with prostate and breast cancers, this is a common approach.', 'Immunotherapy uses medications and other treatments to boost the immune system and encourage it to fight cancerous cells.', 'Two examples of these treatments are checkpoint inhibitors and adoptive cell transfer.', 'Precision medicine, or personalized medicine, is a newer, developing approach.', 'It involves using genetic testing to determine the best treatments for a person’s particular presentation of cancer.', 'Researchers have yet to show that it can effectively treat all types of cancer, however.', 'Radiation therapy uses high-dose radiation to kill cancerous cells.', 'Also, a doctor may recommend using radiation to shrink a tumor before surgery or reduce tumor-related symptoms.', 'Stem cell transplant can be especially beneficial for people with blood-related cancers, such as leukemia or lymphoma.', 'It involves removing cells, such as red or white blood cells, that chemotherapy or radiation has destroyed.', 'Lab technicians then strengthen the cells and put them back into the body.', 'Surgery is often a part of a treatment plan when a person has a cancerous tumor.', 'Also, a surgeon may remove lymph nodes to reduce or prevent the disease’s spread.', 'Targeted therapies perform functions within cancerous cells to prevent them from multiplying.', 'They can also boost the immune system.', 'Two examples of these therapies are small-molecule drugs and monoclonal antibodies.', 'Doctors will often employ more than one type of treatment to maximize effectiveness.', 'Types Share on Pinterest Smoking increases the risk of many different types of cancer.', 'The most common type of cancer in the U.S. is breast cancer, followed by lung and prostate cancers, according to the National Cancer Institute, which excluded nonmelanoma skin cancers from these findings.', 'Each year, more than 40,000 people in the country receive a diagnosis of one of the following types of cancer: bladder\\n\\ncolon and rectal\\n\\nendometrial\\n\\nkidney\\n\\nleukemia\\n\\nliver\\n\\nmelanoma\\n\\nnon-Hodgkin’s lymphoma\\n\\npancreatic\\n\\nthyroid Other forms are less common.', 'According to the National Cancer Institute, there are over 100 types of cancer.', 'Cancer development and cell division Doctors classify cancer by: its location in the body\\n\\nthe tissues that it forms in For example, sarcomas develop in bones or soft tissues, while carcinomas form in cells that cover internal or external surfaces in the body.', 'Basal cell carcinomas develop in the skin, while adenocarcinomas can form in the breast.', 'When cancerous cells spread to other parts of the body, the medical term for this is metastasis.', 'A person can also have more than one type of cancer at a time.', 'To discover more evidence-based information and resources for cancer, visit our dedicated hub.', 'Outlook Improvements in cancer detection, increased awareness of the risks of smoking, and a drop in tobacco use have all contributed to a year-on-year decrease in the number of cancer diagnoses and deaths.', 'According to the American Cancer Society, the overall cancer death rate declined by 26 percent between 1991 and 2015.', 'When a person has cancer, the outlook will depend on whether the disease has spread and on its type, severity, and location.']\n"
          ]
        }
      ]
    },
    {
      "cell_type": "code",
      "source": [
        "# A function to return a random greeting response to a users greeting\n",
        "def greeting_response(text):\n",
        "  text = text.lower()\n",
        "  \n",
        "  # Bots greeting response\n",
        "  bot_greetings = ['hi', 'hello', 'howdy', 'hey']\n",
        "  #Users greeting\n",
        "  user_greetings = ['hello', 'hi', 'hmm', 'greeting', 'wassup']\n",
        "\n",
        "  for word in text.split():\n",
        "    if word in user_greetings:\n",
        "      return random.choice(bot_greetings) "
      ],
      "metadata": {
        "id": "pTq1w0Jh5ybI"
      },
      "execution_count": null,
      "outputs": []
    },
    {
      "cell_type": "code",
      "source": [
        "def index_sort(list_var):\n",
        "  length = len(list_var)\n",
        "  list_index = list(range(0, length))\n",
        "\n",
        "  x = list_var\n",
        "  for i in range(length):\n",
        "    for j in range(length):\n",
        "      if x[list_index[i]] > x[list_index[j]]:\n",
        "        #swap\n",
        "        temp = list_index[i]\n",
        "        list_index[i] = list_index[j]\n",
        "        list_index[j] = temp\n",
        "\n",
        "  return list_index"
      ],
      "metadata": {
        "id": "xbnV1Tw28fPc"
      },
      "execution_count": null,
      "outputs": []
    },
    {
      "cell_type": "code",
      "source": [
        "# create the bot response\n",
        "def bot_response(user_input):\n",
        "  user_input = user_input.lower()\n",
        "  sentence_list.append(user_input)\n",
        "  bot_response = ''\n",
        "  cm = CountVectorizer().fit_transform(sentence_list)\n",
        "  similarity_scores = cosine_similarity(cm[-1], cm)\n",
        "  similarity_scores_list = similarity_scores.flatten()\n",
        "  index = index_sort(similarity_scores_list)\n",
        "  index = index[1:]\n",
        "  response_flag = 0\n",
        "\n",
        "  j = 0\n",
        "  for i in range(len(index)):\n",
        "    if similarity_scores_list[index[i]] > 0.0:\n",
        "      bot_response = bot_response+' '+sentence_list[index[i]]\n",
        "      response_flag = 1\n",
        "      j = j+1\n",
        "    if j > 2:\n",
        "      break\n",
        "  if response_flag == 0:\n",
        "    bot_response = bot_response+' '+\"I apologize, I don't understant.\"\n",
        "  sentence_list.remove(user_input)\n",
        "  return bot_response         "
      ],
      "metadata": {
        "id": "9e5q-LzI7JVr"
      },
      "execution_count": null,
      "outputs": []
    },
    {
      "cell_type": "code",
      "source": [
        "  user_input = 'welcome to machine learning'\n",
        "  sentence_list.append(user_input)\n",
        "  bot_response = ''\n",
        "  cm = CountVectorizer().fit_transform(sentence_list)\n",
        "  similarity_scores = cosine_similarity(cm[-1], cm)\n",
        "  similarity_scores_list = similarity_scores.flatten()\n",
        "  index = index_sort(similarity_scores_list)"
      ],
      "metadata": {
        "id": "I-nuBGtf94YD"
      },
      "execution_count": null,
      "outputs": []
    },
    {
      "cell_type": "code",
      "source": [
        "similarity_scores_list"
      ],
      "metadata": {
        "colab": {
          "base_uri": "https://localhost:8080/"
        },
        "id": "JSWrna42-XOn",
        "outputId": "d3dd1207-12cb-4ff0-e540-1d87bd1e425a"
      },
      "execution_count": null,
      "outputs": [
        {
          "output_type": "execute_result",
          "data": {
            "text/plain": [
              "array([0.20412415, 0.11470787, 0.08574929, 0.        , 0.        ,\n",
              "       0.        , 0.        , 0.10910895, 0.        , 0.        ,\n",
              "       0.        , 0.10660036, 0.25      , 0.        , 0.        ,\n",
              "       0.        , 0.        , 0.        , 0.10660036, 0.09449112,\n",
              "       0.        , 0.09449112, 0.        , 0.16666667, 0.15075567,\n",
              "       0.12909944, 0.        , 0.        , 0.2236068 , 0.12909944,\n",
              "       0.        , 0.        , 0.        , 0.15811388, 0.125     ,\n",
              "       0.        , 0.        , 0.        , 0.        , 0.2       ,\n",
              "       0.        , 0.1118034 , 0.        , 0.21320072, 0.        ,\n",
              "       0.        , 0.125     , 0.12909944, 0.14433757, 0.11785113,\n",
              "       0.        , 0.        , 0.        , 0.        , 0.13867505,\n",
              "       0.14433757, 0.        , 0.        , 0.13867505, 0.        ,\n",
              "       0.0745356 , 0.        , 0.12909944, 0.        , 0.        ,\n",
              "       0.11470787, 0.        , 0.13363062, 0.06868028, 0.10425721,\n",
              "       0.        , 1.        ])"
            ]
          },
          "metadata": {},
          "execution_count": 16
        }
      ]
    },
    {
      "cell_type": "code",
      "source": [
        "#start the chat\n",
        "print('Doc Lally: I am Doctor Lally or Doc Lally for short. I will answer your queries about the cancer disease. If you want to exit, type bye.')\n",
        "\n",
        "exit_list = ['exit', 'see you later', 'bye', 'quit', 'break']\n",
        "while(True):\n",
        "  user_input = input()\n",
        "  if user_input.lower() in exit_list:\n",
        "    print('Doc Lally: I will Chat with you later ')\n",
        "    break\n",
        "  else:\n",
        "    if greeting_response(user_input) != None:\n",
        "      print('Doc Lally: '+greeting_response(user_input))\n",
        "    else:\n",
        "      print('Doc Lally: '+bot_response(user_input))"
      ],
      "metadata": {
        "colab": {
          "base_uri": "https://localhost:8080/"
        },
        "id": "XV19_j7S-2fx",
        "outputId": "9ac38d84-9214-4084-ee95-1beba2e3b053"
      },
      "execution_count": null,
      "outputs": [
        {
          "output_type": "stream",
          "name": "stdout",
          "text": [
            "Doc Lally: I am Doctor Lally or Doc Lally for short. I will answer your queries about the cancer disease. If you want to exit, type bye.\n",
            "hi\n",
            "Doc Lally: hello\n",
            "hello\n",
            "Doc Lally: howdy\n",
            "what is cancer disease and what are the the symptoms of it\n",
            "Doc Lally:  What is cancer? In this article, we examine types of cancer, how the disease develops, and the many treatments that help improve the quality of life and survival rates. It describes the disease that results when cellular changes cause the uncontrolled growth and division of cells.\n",
            "what is cancer? what are the types of cancer?\n",
            "Doc Lally:  What is cancer? According to the National Cancer Institute, there are over 100 types of cancer. Is cancer genetic?\n",
            "what is cancer?\n",
            "Doc Lally:  what is cancer? Is cancer genetic? The most common type of cancer in the U.S. is breast cancer, followed by lung and prostate cancers, according to the National Cancer Institute, which excluded nonmelanoma skin cancers from these findings.\n",
            "exit\n",
            "Doc Lally: I will Chat with you later \n"
          ]
        }
      ]
    }
  ]
}